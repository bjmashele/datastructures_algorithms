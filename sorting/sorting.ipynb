{
 "cells": [
  {
   "cell_type": "markdown",
   "metadata": {},
   "source": [
    "# Sorting Algorithms"
   ]
  },
  {
   "cell_type": "markdown",
   "metadata": {},
   "source": [
    "## Bubble Sort"
   ]
  },
  {
   "cell_type": "code",
   "execution_count": 45,
   "metadata": {},
   "outputs": [],
   "source": [
    "def bubble_sort (arr, compFunc):\n",
    "    size = len(arr)\n",
    "    for i in range(size):\n",
    "        swapped = False\n",
    "        for j in range(size - i - 1):\n",
    "            if compFunc(arr[j], arr[j+1]):\n",
    "                arr[j], arr[j+1] = arr[j+1], arr[j]\n",
    "                swapped = True\n",
    "        if swapped == False:\n",
    "            break\n",
    "\n",
    "# Compare functions\n",
    "\n",
    "def descending(a,b):\n",
    "    return a < b\n",
    "    \n",
    "def ascending(a,b):\n",
    "    return a > b"
   ]
  },
  {
   "cell_type": "code",
   "execution_count": 46,
   "metadata": {},
   "outputs": [
    {
     "name": "stdout",
     "output_type": "stream",
     "text": [
      "[25, 19, 12, 7, 3, 2, 0, -4, -4]\n"
     ]
    }
   ],
   "source": [
    "# test \n",
    "test_arr = [3, 19, -4, 12, 25, -4, 7, 0, 2]\n",
    "\n",
    "bubble_sort(test_arr, descending) \n",
    "print test_arr\n"
   ]
  },
  {
   "cell_type": "code",
   "execution_count": 47,
   "metadata": {},
   "outputs": [
    {
     "name": "stdout",
     "output_type": "stream",
     "text": [
      "[-4, -4, 0, 2, 3, 7, 9, 12, 19, 25]\n"
     ]
    }
   ],
   "source": [
    "# test \n",
    "test_arr = [3, 19, -4, 12, 25, -4, 7, 0, 2, 9]\n",
    "\n",
    "bubble_sort(test_arr, ascending) \n",
    "print test_arr"
   ]
  },
  {
   "cell_type": "markdown",
   "metadata": {},
   "source": [
    "## Insertion Sort"
   ]
  },
  {
   "cell_type": "code",
   "execution_count": 54,
   "metadata": {},
   "outputs": [],
   "source": [
    "def insertion_sort(arr, compFunc):\n",
    "    size = len(arr)\n",
    "    for i in range(size):\n",
    "        temp = arr[i]\n",
    "        j = i\n",
    "        while (j > 0 and compFunc(arr[j -1], temp)):\n",
    "            arr[j] = arr[j-1]\n",
    "            j= j - 1\n",
    "        arr[j] = temp"
   ]
  },
  {
   "cell_type": "code",
   "execution_count": 55,
   "metadata": {},
   "outputs": [
    {
     "name": "stdout",
     "output_type": "stream",
     "text": [
      "[25, 19, 12, 7, 3, 2, 0, -4, -4, -9]\n"
     ]
    }
   ],
   "source": [
    "# test \n",
    "test_arr = [3, 19, -4, 12, 25, -4, 7, 0, 2, -9]\n",
    "\n",
    "insertion_sort(test_arr, descending) \n",
    "print test_arr"
   ]
  },
  {
   "cell_type": "code",
   "execution_count": null,
   "metadata": {},
   "outputs": [],
   "source": []
  }
 ],
 "metadata": {
  "kernelspec": {
   "display_name": "bmnn",
   "language": "python",
   "name": "bmnn"
  },
  "language_info": {
   "codemirror_mode": {
    "name": "ipython",
    "version": 2
   },
   "file_extension": ".py",
   "mimetype": "text/x-python",
   "name": "python",
   "nbconvert_exporter": "python",
   "pygments_lexer": "ipython2",
   "version": "2.7.15"
  },
  "toc": {
   "base_numbering": 1,
   "nav_menu": {},
   "number_sections": false,
   "sideBar": false,
   "skip_h1_title": false,
   "title_cell": "Table of Contents",
   "title_sidebar": "Contents",
   "toc_cell": false,
   "toc_position": {},
   "toc_section_display": false,
   "toc_window_display": false
  }
 },
 "nbformat": 4,
 "nbformat_minor": 2
}
