{
 "cells": [
  {
   "cell_type": "markdown",
   "metadata": {},
   "source": [
    "# Sorting Algorithms"
   ]
  },
  {
   "cell_type": "markdown",
   "metadata": {},
   "source": [
    "## Bubble Sort"
   ]
  },
  {
   "cell_type": "code",
   "execution_count": 45,
   "metadata": {},
   "outputs": [],
   "source": [
    "def bubble_sort (arr, compFunc):\n",
    "    size = len(arr)\n",
    "    for i in range(size):\n",
    "        swapped = False\n",
    "        for j in range(size - i - 1):\n",
    "            if compFunc(arr[j], arr[j+1]):\n",
    "                arr[j], arr[j+1] = arr[j+1], arr[j]\n",
    "                swapped = True\n",
    "        if swapped == False:\n",
    "            break\n",
    "\n",
    "# Compare functions\n",
    "\n",
    "def descending(a,b):\n",
    "    return a < b\n",
    "    \n",
    "def ascending(a,b):\n",
    "    return a > b"
   ]
  },
  {
   "cell_type": "code",
   "execution_count": 46,
   "metadata": {},
   "outputs": [
    {
     "name": "stdout",
     "output_type": "stream",
     "text": [
      "[25, 19, 12, 7, 3, 2, 0, -4, -4]\n"
     ]
    }
   ],
   "source": [
    "# test \n",
    "test_arr = [3, 19, -4, 12, 25, -4, 7, 0, 2]\n",
    "\n",
    "bubble_sort(test_arr, descending) \n",
    "print test_arr\n"
   ]
  },
  {
   "cell_type": "code",
   "execution_count": 47,
   "metadata": {},
   "outputs": [
    {
     "name": "stdout",
     "output_type": "stream",
     "text": [
      "[-4, -4, 0, 2, 3, 7, 9, 12, 19, 25]\n"
     ]
    }
   ],
   "source": [
    "# test \n",
    "test_arr = [3, 19, -4, 12, 25, -4, 7, 0, 2, 9]\n",
    "\n",
    "bubble_sort(test_arr, ascending) \n",
    "print test_arr"
   ]
  },
  {
   "cell_type": "markdown",
   "metadata": {},
   "source": [
    "## Insertion Sort"
   ]
  },
  {
   "cell_type": "code",
   "execution_count": 54,
   "metadata": {},
   "outputs": [],
   "source": [
    "def insertion_sort(arr, compFunc):\n",
    "    size = len(arr)\n",
    "    for i in range(size):\n",
    "        temp = arr[i]\n",
    "        j = i\n",
    "        while (j > 0 and compFunc(arr[j -1], temp)):\n",
    "            arr[j] = arr[j-1]\n",
    "            j= j - 1\n",
    "        arr[j] = temp"
   ]
  },
  {
   "cell_type": "code",
   "execution_count": null,
   "metadata": {},
   "outputs": [],
   "source": [
    "# test \n",
    "test_arr = [3, 19, -4, 12, 25, -4, 7, 0, 2, -9]\n",
    "\n",
    "insertion_sort(test_arr, descending) \n",
    "print test_arr"
   ]
  },
  {
   "cell_type": "code",
   "execution_count": null,
   "metadata": {},
   "outputs": [],
   "source": [
    "# test \n",
    "test_arr = [3, 19, -4, 12, 25, -4, 7, 0, 2, -9]\n",
    "\n",
    "insertion_sort(test_arr, ascending) \n",
    "print test_arr"
   ]
  },
  {
   "cell_type": "code",
   "execution_count": null,
   "metadata": {},
   "outputs": [],
   "source": []
  },
  {
   "cell_type": "markdown",
   "metadata": {},
   "source": [
    "## Selection Sort"
   ]
  },
  {
   "cell_type": "code",
   "execution_count": null,
   "metadata": {},
   "outputs": [],
   "source": [
    "def selection_sort(arr):\n",
    "    size = len(arr)\n",
    "    for i in range(size):\n",
    "        minElemIdx = i\n",
    "        for j in range(i + 1, size):\n",
    "            if arr[j] < arr[minElemIdx]:\n",
    "                arr[j], arr[minElemIdx] = arr[minElemIdx], arr[j]"
   ]
  },
  {
   "cell_type": "code",
   "execution_count": null,
   "metadata": {},
   "outputs": [],
   "source": [
    "# test \n",
    "test_arr = [3, 19, -4, 12, 25, -4, 7, 0, 2, -9]\n",
    "\n",
    "selection_sort(test_arr) \n",
    "print test_arr"
   ]
  },
  {
   "cell_type": "markdown",
   "metadata": {},
   "source": [
    "## Merge Sort\n"
   ]
  },
  {
   "cell_type": "markdown",
   "metadata": {},
   "source": [
    "### Psuedo code"
   ]
  },
  {
   "cell_type": "markdown",
   "metadata": {},
   "source": [
    "MergeSort(aList, first, last):\n",
    "    \n",
    "    \n",
    "   - Break problem into two structurally similar parts\n",
    "       mid = (first + last) / 2\n",
    "   - Recursivelly call MergeSort\n",
    "       if (first < last):\n",
    "        MergeSort(aList, first, mid)\n",
    "        MergeSort(aList, mid + 1, last)\n",
    "    - Merge solved pieces to get solution to the original problem\n",
    "        Merge(aList, first, mid, last)\n",
    "    \n",
    "Merge(aList, first, mid, last):\n",
    "    - Create temp arrays\n",
    "        n1 = mid - first + 1\n",
    "        n2 = last - mid\n",
    "        L = [0] * (n1)\n",
    "        R = [0] * (n2)\n",
    "    - Copy the data to the two arrays\n",
    "        for i in range(0, n1):\n",
    "            L[i] = aList[first + i]\n",
    "        \n",
    "        for j in range(0, n2):\n",
    "            R[j] = aList[mid + 1 + j]\n",
    "    - Merge the two sub arrays\n",
    "        i, j, k = 0 ( first indexes for Left, Right, Merged array )\n",
    "        \n",
    "        while (i < n1 and j < n2):\n",
    "            if L[i] <= R[j]:\n",
    "                aList[k] = L[i]\n",
    "                i++\n",
    "            else:\n",
    "                aList[k] = R[j]\n",
    "                j++\n",
    "            k++\n",
    "     - Copy remaining elements of L\n",
    "        while i < n1:\n",
    "            aList[k] = L[i]\n",
    "            i++\n",
    "            k++\n",
    "      - Copy remaining elements of R\n",
    "        while j < n2:\n",
    "            aList[k] = R[j]\n",
    "            j++\n",
    "            k++\n",
    "    \n",
    "    "
   ]
  },
  {
   "cell_type": "code",
   "execution_count": 72,
   "metadata": {},
   "outputs": [],
   "source": [
    "\n",
    "def merge(aList, first, mid, last):\n",
    "    nL = mid - first + 1\n",
    "    nR = last - mid\n",
    "    L = [0] * nL\n",
    "    R = [0] * nR\n",
    "    for i in range(0, nL):\n",
    "        L[i] = aList[first + i]\n",
    "    for j in range(0,nR):\n",
    "        R[j] = aList[mid + 1 + j]\n",
    "\n",
    "    i = 0\n",
    "    j = 0\n",
    "    k = first\n",
    "    while i < nL and j < nR:\n",
    "        if L[i] <= R[j]:\n",
    "            aList[k] = L[i]\n",
    "            i += 1\n",
    "        else: \n",
    "            aList[k] = R[j]\n",
    "            j += 1\n",
    "        k += 1\n",
    "    # copy the rest in L\n",
    "    while i < nL:\n",
    "        aList[k] = L[i]\n",
    "        i += 1\n",
    "        k += 1\n",
    "    # copy the rest in R\n",
    "    while j < nR:\n",
    "        aList[k] = R[j]\n",
    "        j += 1\n",
    "        k += 1\n",
    "\n",
    "def merge_sort(aList, first , last):\n",
    "    import math\n",
    "    if first < last:\n",
    "        mid = ((last - 1) + first)/ 2\n",
    "        merge_sort(aList, first, mid)\n",
    "        merge_sort(aList, mid + 1, last)\n",
    "        merge(aList, first, mid, last)\n"
   ]
  },
  {
   "cell_type": "code",
   "execution_count": 73,
   "metadata": {},
   "outputs": [
    {
     "name": "stdout",
     "output_type": "stream",
     "text": [
      "[-9, -4, -4, 0, 2, 3, 7, 12, 19, 25]\n"
     ]
    }
   ],
   "source": [
    "# test \n",
    "test_arr = [3, 19, -4, 12, 25, -4, 7, 0, 2, -9]\n",
    "n = len(test_arr)\n",
    "merge_sort(test_arr, 0, n - 1) \n",
    "print test_arr"
   ]
  },
  {
   "cell_type": "code",
   "execution_count": 12,
   "metadata": {},
   "outputs": [],
   "source": [
    "\n"
   ]
  },
  {
   "cell_type": "code",
   "execution_count": null,
   "metadata": {},
   "outputs": [],
   "source": []
  },
  {
   "cell_type": "code",
   "execution_count": null,
   "metadata": {},
   "outputs": [],
   "source": []
  },
  {
   "cell_type": "code",
   "execution_count": null,
   "metadata": {},
   "outputs": [],
   "source": []
  },
  {
   "cell_type": "code",
   "execution_count": null,
   "metadata": {},
   "outputs": [],
   "source": []
  }
 ],
 "metadata": {
  "kernelspec": {
   "display_name": "bmnn",
   "language": "python",
   "name": "bmnn"
  },
  "language_info": {
   "codemirror_mode": {
    "name": "ipython",
    "version": 2
   },
   "file_extension": ".py",
   "mimetype": "text/x-python",
   "name": "python",
   "nbconvert_exporter": "python",
   "pygments_lexer": "ipython2",
   "version": "2.7.15"
  },
  "toc": {
   "base_numbering": 1,
   "nav_menu": {},
   "number_sections": false,
   "sideBar": false,
   "skip_h1_title": false,
   "title_cell": "Table of Contents",
   "title_sidebar": "Contents",
   "toc_cell": false,
   "toc_position": {},
   "toc_section_display": false,
   "toc_window_display": false
  }
 },
 "nbformat": 4,
 "nbformat_minor": 2
}
