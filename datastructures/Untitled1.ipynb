{
 "cells": [
  {
   "cell_type": "code",
   "execution_count": null,
   "metadata": {},
   "outputs": [],
   "source": [
    "# Heaps\n",
    "\n",
    "class Heap:\n",
    "    def __init__(self):\n",
    "        self.heap = [0]\n",
    "        self.size = 0\n",
    "\n",
    "    def sift_up(self, k):\n",
    "        while k // 2 > 0:\n",
    "            if self.heap[k] < self.heap[k//2]:\n",
    "                self.heap[k], self.heap[k//2] = self.heap[k//2], self.heap[k]\n",
    "            k //= 2\n",
    "\n",
    "    def insert(self, item):\n",
    "        self.heap.append(item)\n",
    "        self.size += 1\n",
    "        self.float(self.size)\n",
    "\n",
    "    def sift_down(self, k):\n",
    "        while k * 2 <= self.size:\n",
    "            mc = self.minchild(k)\n",
    "            if self.heap[k] > self.heap[mc]:\n",
    "                self.heap[k], self.heap[mc] = self.heap[mc], self.heap[k]\n",
    "            k = mc\n",
    "\n",
    "    def min_child(self, k):\n",
    "        if k * 2 + 1 > self.size:\n",
    "            return k * 2\n",
    "        elif self.heap[k*2] < self.heap[k*2+1]:\n",
    "            return k * 2\n",
    "        else:\n",
    "            return k * 2 + 1\n",
    "\n",
    "    def pop(self):\n",
    "        item = self.heap[1]\n",
    "        self.heap[1] = self.heap[self.size]\n",
    "        self.size -= 1\n",
    "        self.heap.pop()\n",
    "        self.sink(1)\n",
    "        return item"
   ]
  }
 ],
 "metadata": {
  "kernelspec": {
   "display_name": "Python 3",
   "language": "python",
   "name": "python3"
  },
  "language_info": {
   "codemirror_mode": {
    "name": "ipython",
    "version": 3
   },
   "file_extension": ".py",
   "mimetype": "text/x-python",
   "name": "python",
   "nbconvert_exporter": "python",
   "pygments_lexer": "ipython3",
   "version": "3.7.4"
  }
 },
 "nbformat": 4,
 "nbformat_minor": 2
}
